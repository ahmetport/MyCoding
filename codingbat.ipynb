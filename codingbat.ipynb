{
 "cells": [
  {
   "attachments": {},
   "cell_type": "markdown",
   "metadata": {},
   "source": [
    "BURDAKİ ÇALIŞMALAR CODİNGBAT VE PYTHONIN ÇEŞİTLİ SİTELERDEN ALINA ALGORİTMA GELİŞTİRİCİ EXERCİSE DIR."
   ]
  },
  {
   "cell_type": "code",
   "execution_count": 3,
   "metadata": {},
   "outputs": [
    {
     "name": "stdout",
     "output_type": "stream",
     "text": [
      "not al\n"
     ]
    }
   ],
   "source": [
    "str=input(\"herhengi bir kelime giriniz\")\n",
    "\n",
    "if len(str) >= 3 and str[:3] == \"not\" :\n",
    "        print(str)\n",
    "print(\"not \" + str) "
   ]
  },
  {
   "cell_type": "code",
   "execution_count": 1,
   "metadata": {},
   "outputs": [],
   "source": [
    "\"\"\"Given two integer numbers return their product only if the product is equal to or lower than 1000, else return their sum.\"\"\"\n",
    "\n",
    "def çarp_topla(num1,num2):\n",
    "    sayilar= num1 * num2\n",
    "    if sayilar <= 1000 :\n",
    "        print(sayilar)\n",
    "    else:\n",
    "        print(num1 + num2)    \n",
    "    "
   ]
  },
  {
   "cell_type": "code",
   "execution_count": 2,
   "metadata": {},
   "outputs": [
    {
     "name": "stdout",
     "output_type": "stream",
     "text": [
      "600\n"
     ]
    }
   ],
   "source": [
    "çarp_topla(20,30)"
   ]
  },
  {
   "cell_type": "code",
   "execution_count": 3,
   "metadata": {},
   "outputs": [
    {
     "name": "stdout",
     "output_type": "stream",
     "text": [
      "80\n"
     ]
    }
   ],
   "source": [
    "çarp_topla(30,50)"
   ]
  },
  {
   "cell_type": "code",
   "execution_count": 6,
   "metadata": {},
   "outputs": [
    {
     "name": "stdout",
     "output_type": "stream",
     "text": [
      "Current Number 0 Previous Number  0  Sum:  0\n",
      "Current Number 1 Previous Number  0  Sum:  1\n",
      "Current Number 2 Previous Number  1  Sum:  3\n",
      "Current Number 3 Previous Number  2  Sum:  5\n",
      "Current Number 4 Previous Number  3  Sum:  7\n",
      "Current Number 5 Previous Number  4  Sum:  9\n",
      "Current Number 6 Previous Number  5  Sum:  11\n",
      "Current Number 7 Previous Number  6  Sum:  13\n",
      "Current Number 8 Previous Number  7  Sum:  15\n",
      "Current Number 9 Previous Number  8  Sum:  17\n",
      "Current Number 10 Previous Number  9  Sum:  19\n"
     ]
    }
   ],
   "source": [
    "\"\"\"İlk 10 sayıyı yineleyen ve her yinelemede mevcut ve önceki sayıların toplamını yazdıran bir program yazın.\"\"\"\n",
    "previous_num = 0\n",
    "for i in range(0,11):\n",
    "    x_sum = previous_num + i\n",
    "    print(\"Current Number\", i, \"Previous Number \", previous_num, \" Sum: \", x_sum)\n",
    "    previous_num = i\n",
    "    \n",
    "    "
   ]
  },
  {
   "cell_type": "code",
   "execution_count": 7,
   "metadata": {},
   "outputs": [
    {
     "name": "stdout",
     "output_type": "stream",
     "text": [
      "p\n",
      "r\n",
      "a\n",
      "a\n"
     ]
    }
   ],
   "source": [
    "\"\"\"Kullanıcıdan bir dizge kabul eden ve çift indeks numarasında bulunan karakterleri gösteren bir program yazınız.\"\"\"\n",
    "\n",
    "word = input(\"kelime giriniz\") # ornek portakal girdik 2 indexleri getirdi\n",
    "x = list(word)\n",
    "\n",
    "for i in x [0::2]:\n",
    "    print(i)"
   ]
  },
  {
   "cell_type": "code",
   "execution_count": 5,
   "metadata": {},
   "outputs": [
    {
     "name": "stdout",
     "output_type": "stream",
     "text": [
      "ve\n"
     ]
    }
   ],
   "source": [
    "#Write a program to remove characters from a string starting from zero up to n and return a new string.\n",
    "# example remove_chars(pynative,4) output tive olacak şekilde bi tane kod yazın\n",
    "\n",
    "def remove_char(word,n):\n",
    "    x = word[n:] # yani n word buyuk olmamamlı\n",
    "    return x \n",
    "\n",
    "result=remove_char(\"pynative\", 6)\n",
    "print(result)"
   ]
  },
  {
   "cell_type": "code",
   "execution_count": 3,
   "metadata": {},
   "outputs": [
    {
     "name": "stdout",
     "output_type": "stream",
     "text": [
      "girilen sayı [10, 20, 30, 40, 10] original sayı\n",
      "True\n",
      "girilen sayı [1, 5, 9, 7, 6, 4, 8] original sayı\n",
      "False\n"
     ]
    }
   ],
   "source": [
    "#Check if the first and last number of a list is the same\n",
    "# Write a function to return True if the first and last number of a given list is same. If numbers are different then return False.\n",
    "\n",
    "number_x  =[10,20,30,40,10]\n",
    "number_y = [1,5,9,7,6,4,8]\n",
    "\n",
    "def first_last_number(numberlist):\n",
    "    print(f\"girilen sayı {numberlist} original sayı\")\n",
    "    \n",
    "    first_number = numberlist[0]\n",
    "    last_number = numberlist[-1]\n",
    "    \n",
    "    if first_number == last_number :\n",
    "        return True \n",
    "    else:\n",
    "        return False \n",
    "    \n",
    "    \n",
    "print(first_last_number(number_x))\n",
    "print(first_last_number(number_y))    \n",
    "    \n",
    "    \n",
    "    \n",
    "    "
   ]
  },
  {
   "cell_type": "code",
   "execution_count": 16,
   "metadata": {},
   "outputs": [
    {
     "name": "stdout",
     "output_type": "stream",
     "text": [
      "10\n",
      "75\n",
      "105\n"
     ]
    }
   ],
   "source": [
    "#Display numbers divisible by 5 from a list\n",
    "liste = [10,44,75,89,105]\n",
    "\n",
    "for i in liste:\n",
    "    if i % 5 == 0:\n",
    "        print(i)    \n"
   ]
  },
  {
   "cell_type": "code",
   "execution_count": 21,
   "metadata": {},
   "outputs": [
    {
     "name": "stdout",
     "output_type": "stream",
     "text": [
      "2\n"
     ]
    }
   ],
   "source": [
    "#Return the count of a given substring from a string\n",
    "\n",
    "str_x=\"ahmet çok iyi bir insan ve çok iyi bir baba\"\n",
    "\n",
    "cnt=str_x.count(\"çok\")\n",
    "print(cnt)"
   ]
  },
  {
   "cell_type": "code",
   "execution_count": 34,
   "metadata": {},
   "outputs": [
    {
     "name": "stdout",
     "output_type": "stream",
     "text": [
      "1\n"
     ]
    }
   ],
   "source": [
    "str_x=\"ahmet çok iyi bir insan ve çok iyi bir baba\"\n",
    "count=0\n",
    "\n",
    "for i in range(len(str_x) - 1):\n",
    "    count += str_x[i:i+4] == \"baba\" # i+4 seçtigimiz kelimeye göre degişir mesela çok seçseydik i +3 olurdu\n",
    "print(count)        \n",
    "    \n",
    "    "
   ]
  },
  {
   "cell_type": "code",
   "execution_count": 46,
   "metadata": {},
   "outputs": [
    {
     "name": "stdout",
     "output_type": "stream",
     "text": [
      "Emma appears 2 times in the string.\n"
     ]
    }
   ],
   "source": [
    "txt = 'Emma is a good developer. Emma is also a writer.' # yukardaki sorunun farklı çözümü\n",
    "count = 0\n",
    "lst = txt.split()\n",
    "for word in lst:\n",
    "  if word == 'Emma':\n",
    "    count += 1\n",
    "print(f'Emma appears {count} times in the string.')"
   ]
  },
  {
   "cell_type": "code",
   "execution_count": 35,
   "metadata": {},
   "outputs": [
    {
     "data": {
      "text/plain": [
       "32"
      ]
     },
     "execution_count": 35,
     "metadata": {},
     "output_type": "execute_result"
    }
   ],
   "source": [
    "def expo(base,exponent):\n",
    "    \n",
    "    return base**exponent\n",
    "\n",
    "\n",
    "expo(2,5)"
   ]
  },
  {
   "cell_type": "code",
   "execution_count": 36,
   "metadata": {},
   "outputs": [
    {
     "name": "stdout",
     "output_type": "stream",
     "text": [
      "1\n",
      "2 2\n",
      "3 3 3\n",
      "4 4 4 4\n",
      "5 5 5 5 5\n"
     ]
    }
   ],
   "source": [
    "# Print the following pattern harika bir çözüm ilk kez karşilaştım\n",
    "n = 1\n",
    "\n",
    "while n <=5:\n",
    "\n",
    "        print(\" \".join((str(n)*n)))\n",
    "\n",
    "        n+=1"
   ]
  },
  {
   "cell_type": "code",
   "execution_count": 3,
   "metadata": {},
   "outputs": [
    {
     "name": "stdout",
     "output_type": "stream",
     "text": [
      "\n",
      "\n",
      "1 \n",
      "\n",
      "2 2 \n",
      "\n",
      "3 3 3 \n",
      "\n",
      "4 4 4 4 \n",
      "\n",
      "5 5 5 5 5 \n",
      "\n"
     ]
    }
   ],
   "source": [
    "for num in range(6):\n",
    "    for i in range(num):\n",
    "        print (num, end=\" \") #print number\n",
    "    # new line after each row to display pattern correctly\n",
    "    print(\"\\n\")"
   ]
  },
  {
   "cell_type": "code",
   "execution_count": 47,
   "metadata": {},
   "outputs": [
    {
     "name": "stdout",
     "output_type": "stream",
     "text": [
      "Original number  121\n",
      "Yes. given number is palindrome number\n",
      "Original number  125\n",
      "No. given number is not palindrome number.\n"
     ]
    }
   ],
   "source": [
    "def cheack_palindrome(number):\n",
    "    \n",
    "    print('Original number ',number)\n",
    "\n",
    "    if str(number) ==str(number)[::-1]:\n",
    "\n",
    "        print('Yes. given number is palindrome number')\n",
    "\n",
    "    else:\n",
    "\n",
    "        print('No. given number is not palindrome number.')\n",
    "\n",
    "\n",
    "cheack_palindrome(121)\n",
    "\n",
    "cheack_palindrome(125)"
   ]
  },
  {
   "cell_type": "code",
   "execution_count": 4,
   "metadata": {},
   "outputs": [
    {
     "name": "stdout",
     "output_type": "stream",
     "text": [
      "result list: [25, 35, 40, 60, 90]\n"
     ]
    }
   ],
   "source": [
    "#Aşağıdaki koşulu kullanarak iki listeden yeni bir liste oluşturun\n",
    "\n",
    "#İkili bir sayı listesi verildiğinde, yeni listenin birinci listedeki tek sayıları ve ikinci listedeki çift sayıları \n",
    "#içerecek şekilde yeni bir liste oluşturmak için bir program yazın.\n",
    "\n",
    "def merge_list(list1, list2):\n",
    "    result_list = []\n",
    "    \n",
    "    # iterate first list\n",
    "    for num in list1:\n",
    "        # check if current number is odd\n",
    "        if num % 2 != 0:\n",
    "            # add odd number to result list\n",
    "            result_list.append(num)\n",
    "    \n",
    "    # iterate second list\n",
    "    for num in list2:\n",
    "        # check if current number is even\n",
    "        if num % 2 == 0:\n",
    "            # add even number to result list\n",
    "            result_list.append(num)\n",
    "    return result_list\n",
    "\n",
    "list1 = [10, 20, 25, 30, 35]\n",
    "list2 = [40, 45, 60, 75, 90]\n",
    "print(\"result list:\", merge_list(list1, list2))\n"
   ]
  },
  {
   "cell_type": "code",
   "execution_count": 5,
   "metadata": {},
   "outputs": [
    {
     "name": "stdout",
     "output_type": "stream",
     "text": [
      "Given number 7536\n",
      "6 3 5 7 "
     ]
    }
   ],
   "source": [
    "#Bir tamsayıdan her basamağı ters sırada çıkaran bir program yazınız.\n",
    "\n",
    "number = 7536\n",
    "print(\"Given number\", number)\n",
    "while number > 0:\n",
    "    # get the last digit\n",
    "    digit = number % 10\n",
    "    # remove the last digit and repeat the loop\n",
    "    number = number // 10\n",
    "    print(digit, end=\" \")"
   ]
  },
  {
   "cell_type": "code",
   "execution_count": 10,
   "metadata": {},
   "outputs": [
    {
     "name": "stdout",
     "output_type": "stream",
     "text": [
      "Ödenecek vergi miktarı: $ 6000.0\n"
     ]
    }
   ],
   "source": [
    "# For example, suppose the taxable income is 45000 the income tax payable is\n",
    "\n",
    "#10000*0% + 10000*10%  + 25000*20% = $6000.\n",
    "\n",
    "\n",
    "\n",
    "def calculate_income_tax(income):\n",
    "    tax = 0\n",
    "\n",
    "    if income <= 10000:\n",
    "        tax = 0\n",
    "    elif income <= 20000:\n",
    "        tax = (income - 10000) * 0.1\n",
    "    elif income <= 50000:\n",
    "        tax = 10000 * 0.1 + (income - 20000) * 0.2\n",
    "    else:\n",
    "        tax = 10000 * 0.1 + 30000 * 0.2 + (income - 50000) * 0.3\n",
    "\n",
    "    return tax\n",
    "\n",
    "\n",
    "# Kullanıcıdan geliri isteyelim\n",
    "income = float(input(\"Geliri girin: \"))\n",
    "\n",
    "# Vergiyi hesaplayalım\n",
    "tax_payable = calculate_income_tax(income)\n",
    "\n",
    "# Sonucu ekrana basalım\n",
    "print(\"Ödenecek vergi miktarı: $\", tax_payable)"
   ]
  },
  {
   "cell_type": "code",
   "execution_count": 14,
   "metadata": {},
   "outputs": [
    {
     "name": "stdout",
     "output_type": "stream",
     "text": [
      "1 2 3 4 5 6 7 8 9 10 \t\t\n",
      "2 4 6 8 10 12 14 16 18 20 \t\t\n",
      "3 6 9 12 15 18 21 24 27 30 \t\t\n",
      "4 8 12 16 20 24 28 32 36 40 \t\t\n",
      "5 10 15 20 25 30 35 40 45 50 \t\t\n",
      "6 12 18 24 30 36 42 48 54 60 \t\t\n",
      "7 14 21 28 35 42 49 56 63 70 \t\t\n",
      "8 16 24 32 40 48 56 64 72 80 \t\t\n",
      "9 18 27 36 45 54 63 72 81 90 \t\t\n",
      "10 20 30 40 50 60 70 80 90 100 \t\t\n"
     ]
    }
   ],
   "source": [
    "# Çarpım tablosu formunu 1'den 10'a yazdır\n",
    "for i in range(1,11):\n",
    "    for j in range(1,11):\n",
    "        print(i * j ,end=\" \")\n",
    "    print(\"\\t\\t\")    "
   ]
  },
  {
   "cell_type": "code",
   "execution_count": 15,
   "metadata": {},
   "outputs": [
    {
     "name": "stdout",
     "output_type": "stream",
     "text": [
      "* * * * *  \n",
      "* * * *  \n",
      "* * *  \n",
      "* *  \n",
      "*  \n",
      " \n"
     ]
    }
   ],
   "source": [
    "# Yıldızlı (yıldız işareti) aşağı doğru Yarım Piramit Deseni yazdırın\n",
    "\n",
    "for i in range(6, 0, -1):\n",
    "    for j in range(0, i - 1):\n",
    "        print(\"*\", end=' ')\n",
    "    print(\" \")"
   ]
  },
  {
   "cell_type": "code",
   "execution_count": 16,
   "metadata": {},
   "outputs": [
    {
     "name": "stdout",
     "output_type": "stream",
     "text": [
      "* * * * * \n",
      "\n",
      "* * * * \n",
      "\n",
      "* * * \n",
      "\n",
      "* * \n",
      "\n",
      "* \n",
      "\n",
      "\n",
      "\n"
     ]
    }
   ],
   "source": [
    "for i in reversed(range(6)):\n",
    "\n",
    "    for j in range(i):\n",
    "\n",
    "        print('*',end=' ')\n",
    "\n",
    "    print('\\n')"
   ]
  },
  {
   "cell_type": "code",
   "execution_count": 19,
   "metadata": {},
   "outputs": [
    {
     "name": "stdout",
     "output_type": "stream",
     "text": [
      "5\n",
      "4\n",
      "3\n",
      "2\n",
      "1\n"
     ]
    }
   ],
   "source": [
    "#x=input(\"Enter the integer\")\n",
    "x = str(12345)\n",
    "\n",
    "for i in x:\n",
    "\n",
    "    print(x[int(len(x))-int(i)])"
   ]
  },
  {
   "cell_type": "code",
   "execution_count": 20,
   "metadata": {},
   "outputs": [
    {
     "name": "stdout",
     "output_type": "stream",
     "text": [
      "5 raises to the power of 4 is:  625\n"
     ]
    }
   ],
   "source": [
    "#exponent(base, exp) adında, taban artışlarının int değerini exp'in kuvvetine döndüren bir fonksiyon yazın.\n",
    "\n",
    "def exponent(base, exp):\n",
    "    num = exp\n",
    "    result = 1\n",
    "    while num > 0:\n",
    "        result = result * base\n",
    "        num = num - 1\n",
    "    print(base, \"raises to the power of\", exp, \"is: \", result)\n",
    "\n",
    "exponent(5, 4)"
   ]
  },
  {
   "cell_type": "code",
   "execution_count": 24,
   "metadata": {},
   "outputs": [
    {
     "name": "stdout",
     "output_type": "stream",
     "text": [
      "8\n",
      "25\n",
      "1\n"
     ]
    }
   ],
   "source": [
    "def exponent(base, exp):\n",
    "    result = 1\n",
    "    for _ in range(exp):\n",
    "        result *= base\n",
    "    return result\n",
    "\n",
    "print(exponent(2, 3))  # 2^3 = 8\n",
    "print(exponent(5, 2))  # 5^2 = 25\n",
    "print(exponent(10, 0)) # 10^0 = 1"
   ]
  }
 ],
 "metadata": {
  "kernelspec": {
   "display_name": "base",
   "language": "python",
   "name": "python3"
  },
  "language_info": {
   "codemirror_mode": {
    "name": "ipython",
    "version": 3
   },
   "file_extension": ".py",
   "mimetype": "text/x-python",
   "name": "python",
   "nbconvert_exporter": "python",
   "pygments_lexer": "ipython3",
   "version": "3.9.12"
  },
  "orig_nbformat": 4
 },
 "nbformat": 4,
 "nbformat_minor": 2
}
