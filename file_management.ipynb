{
 "cells": [
  {
   "attachments": {},
   "cell_type": "markdown",
   "metadata": {},
   "source": [
    "files manegement ()"
   ]
  },
  {
   "cell_type": "code",
   "execution_count": 1,
   "metadata": {},
   "outputs": [
    {
     "data": {
      "text/plain": [
       "<_io.TextIOWrapper name='futbolcular.txt' mode='w' encoding='UTF-8'>"
      ]
     },
     "execution_count": 1,
     "metadata": {},
     "output_type": "execute_result"
    }
   ],
   "source": [
    "open(\"futbolcular.txt\" , \"w\") # w kipi dosya yoksa oluşturur varsa siler tekrar oluşturur ve yazmamıza yarar.\n",
    "# atama yapmadıgım için dosya oluşturdum der ve adresi verir\n"
   ]
  },
  {
   "cell_type": "code",
   "execution_count": 2,
   "metadata": {},
   "outputs": [],
   "source": [
    "file = open(\"futbolcular.txt\" , \"w\")"
   ]
  },
  {
   "cell_type": "code",
   "execution_count": 3,
   "metadata": {},
   "outputs": [],
   "source": [
    "file.close() # close işlemini yapmazsak boş yere yer kaplar bunu dosyadaki her işlemden sonra yapmamız lazım"
   ]
  },
  {
   "cell_type": "code",
   "execution_count": 4,
   "metadata": {},
   "outputs": [
    {
     "data": {
      "text/plain": [
       "12"
      ]
     },
     "execution_count": 4,
     "metadata": {},
     "output_type": "execute_result"
    }
   ],
   "source": [
    "file=open(\"futbolcular.txt\", \"w\")\n",
    "file.write(\"mauro icardi\") # hafızada 12 byt lık yer kapladıgını gösteriyor"
   ]
  },
  {
   "cell_type": "code",
   "execution_count": 5,
   "metadata": {},
   "outputs": [],
   "source": [
    "file.close()"
   ]
  },
  {
   "cell_type": "code",
   "execution_count": 7,
   "metadata": {},
   "outputs": [
    {
     "data": {
      "text/plain": [
       "10"
      ]
     },
     "execution_count": 7,
     "metadata": {},
     "output_type": "execute_result"
    }
   ],
   "source": [
    "file=open(\"futbolcular.txt\", \"a\") # a kipi append ekler dosya yoksa oluşturur\n",
    "file.write(\"şükrü baba\")# dosyaya yeni bir şey ekledim"
   ]
  },
  {
   "cell_type": "code",
   "execution_count": 8,
   "metadata": {},
   "outputs": [],
   "source": [
    "file.close()"
   ]
  },
  {
   "cell_type": "code",
   "execution_count": 12,
   "metadata": {},
   "outputs": [
    {
     "data": {
      "text/plain": [
       "9"
      ]
     },
     "execution_count": 12,
     "metadata": {},
     "output_type": "execute_result"
    }
   ],
   "source": [
    "file=open(\"futbolcular.txt\", \"a\")\n",
    "file.write(\"abubakar\\n\") # imlec aşagıya indi"
   ]
  },
  {
   "cell_type": "code",
   "execution_count": 13,
   "metadata": {},
   "outputs": [],
   "source": [
    "file.close()"
   ]
  },
  {
   "cell_type": "code",
   "execution_count": 14,
   "metadata": {},
   "outputs": [],
   "source": [
    "file=open(\"futbolcular.txt\", \"a\")\n",
    "file.write(\"enes doruk\\n\")\n",
    "file.close()"
   ]
  },
  {
   "cell_type": "code",
   "execution_count": 15,
   "metadata": {},
   "outputs": [],
   "source": [
    "file=open(\"futbolcular.txt\", \"r\") # r kipi dosyayı okur.\n",
    "file.close()"
   ]
  },
  {
   "cell_type": "code",
   "execution_count": 16,
   "metadata": {},
   "outputs": [
    {
     "ename": "FileNotFoundError",
     "evalue": "[Errno 2] No such file or directory: 'futbolcular2.txt'",
     "output_type": "error",
     "traceback": [
      "\u001b[1;31m---------------------------------------------------------------------------\u001b[0m",
      "\u001b[1;31mFileNotFoundError\u001b[0m                         Traceback (most recent call last)",
      "\u001b[1;32mc:\\Users\\gulsah\\Desktop\\CodingBat.Python\\file_management.ipynb Cell 13\u001b[0m in \u001b[0;36m<cell line: 1>\u001b[1;34m()\u001b[0m\n\u001b[1;32m----> <a href='vscode-notebook-cell:/c%3A/Users/gulsah/Desktop/CodingBat.Python/file_management.ipynb#X16sZmlsZQ%3D%3D?line=0'>1</a>\u001b[0m file\u001b[39m=\u001b[39m\u001b[39mopen\u001b[39;49m(\u001b[39m\"\u001b[39;49m\u001b[39mfutbolcular2.txt\u001b[39;49m\u001b[39m\"\u001b[39;49m, \u001b[39m\"\u001b[39;49m\u001b[39mr\u001b[39;49m\u001b[39m\"\u001b[39;49m) \u001b[39m# r kipi dosyayı okur eger dosya yoksa hata verir\u001b[39;00m\n\u001b[0;32m      <a href='vscode-notebook-cell:/c%3A/Users/gulsah/Desktop/CodingBat.Python/file_management.ipynb#X16sZmlsZQ%3D%3D?line=1'>2</a>\u001b[0m file\u001b[39m.\u001b[39mclose()\n",
      "\u001b[1;31mFileNotFoundError\u001b[0m: [Errno 2] No such file or directory: 'futbolcular2.txt'"
     ]
    }
   ],
   "source": [
    "file=open(\"futbolcular2.txt\", \"r\") # r kipi dosyayı okur eger dosya yoksa hata verir.\n",
    "file.close()"
   ]
  },
  {
   "cell_type": "code",
   "execution_count": 17,
   "metadata": {},
   "outputs": [
    {
     "name": "stdout",
     "output_type": "stream",
     "text": [
      "mauro icardişükrü \n",
      "\n",
      "abubakar\n",
      "\n",
      "enes doruk\n",
      "\n"
     ]
    }
   ],
   "source": [
    "file=open(\"futbolcular.txt\", \"r\")\n",
    "for i in file:\n",
    "    print(i)\n",
    "file.close()    "
   ]
  },
  {
   "cell_type": "code",
   "execution_count": 18,
   "metadata": {},
   "outputs": [
    {
     "name": "stdout",
     "output_type": "stream",
     "text": [
      "mauro icardişükrü \n",
      "abubakar\n",
      "enes doruk\n"
     ]
    }
   ],
   "source": [
    "file=open(\"futbolcular.txt\", \"r\")\n",
    "for i in file:\n",
    "    print(i,end=\"\") # aradaki boşlugu end kullanarak kaldırabiliriz\n",
    "file.close() "
   ]
  },
  {
   "cell_type": "code",
   "execution_count": 19,
   "metadata": {},
   "outputs": [
    {
     "name": "stdout",
     "output_type": "stream",
     "text": [
      "dosyanın içerigi : \n",
      "mauro icardişükrü \n",
      "abubakar\n",
      "enes doruk\n",
      "\n"
     ]
    }
   ],
   "source": [
    "file=open(\"futbolcular.txt\", \"r\")\n",
    "içerik = file.read() # read() fonk dosyaları okumamamıza yardım eder\n",
    "print(\"dosyanın içerigi : \")\n",
    "print(içerik)"
   ]
  },
  {
   "cell_type": "code",
   "execution_count": 21,
   "metadata": {},
   "outputs": [
    {
     "name": "stdout",
     "output_type": "stream",
     "text": [
      "mauro icardişükrü \n",
      "\n"
     ]
    }
   ],
   "source": [
    "file=open(\"futbolcular.txt\", \"r\")\n",
    "print(file.readline()) # tek satırı okur\n",
    "file.close()"
   ]
  },
  {
   "cell_type": "code",
   "execution_count": 22,
   "metadata": {},
   "outputs": [
    {
     "name": "stdout",
     "output_type": "stream",
     "text": [
      "['mauro icardişükrü \\n', 'abubakar\\n', 'enes doruk\\n']\n"
     ]
    }
   ],
   "source": [
    "file=open(\"futbolcular.txt\", \"r\")\n",
    "liste=file.readlines() # liste şeklinde verir\n",
    "print(liste)\n",
    "\n",
    "file.close()"
   ]
  },
  {
   "cell_type": "code",
   "execution_count": 24,
   "metadata": {},
   "outputs": [
    {
     "name": "stdout",
     "output_type": "stream",
     "text": [
      "0\n"
     ]
    }
   ],
   "source": [
    "with open(\"futbolcular.txt\", \"r\") as file:\n",
    "    print(file.tell()) # dosya imlecinin hangi byt de oldugunu söyler"
   ]
  },
  {
   "cell_type": "code",
   "execution_count": 25,
   "metadata": {},
   "outputs": [
    {
     "name": "stdout",
     "output_type": "stream",
     "text": [
      "0\n",
      "15\n"
     ]
    }
   ],
   "source": [
    "with open(\"futbolcular.txt\", \"r\") as file:\n",
    "    print(file.tell())\n",
    "    file.seek(15)\n",
    "    print(file.tell())"
   ]
  },
  {
   "cell_type": "code",
   "execution_count": 26,
   "metadata": {},
   "outputs": [
    {
     "name": "stdout",
     "output_type": "stream",
     "text": [
      "ro icardi \n"
     ]
    }
   ],
   "source": [
    "with open(\"futbolcular.txt\", \"r\") as file:\n",
    "    file.seek(3) # den başla \n",
    "    içerik=file.read(10) # 3 bytden itibaren 10 karakter oku demek\n",
    "    print(içerik)"
   ]
  },
  {
   "cell_type": "code",
   "execution_count": 27,
   "metadata": {},
   "outputs": [
    {
     "name": "stdout",
     "output_type": "stream",
     "text": [
      "13\n",
      "ro icardi \n"
     ]
    }
   ],
   "source": [
    "with open(\"futbolcular.txt\", \"r\") as file:\n",
    "    file.seek(3) # den başla \n",
    "    içerik=file.read(10) \n",
    "    print(file.tell()) # kaç byt ilerledigimizi gösterdi imlec 13 bytde\n",
    "    print(içerik)"
   ]
  },
  {
   "cell_type": "code",
   "execution_count": 28,
   "metadata": {},
   "outputs": [
    {
     "name": "stdout",
     "output_type": "stream",
     "text": [
      "ro icardi \n",
      "mauro icardi şükrü mu\n"
     ]
    }
   ],
   "source": [
    "with open(\"futbolcular.txt\", \"r\") as file:\n",
    "    file.seek(3) \n",
    "    içerik=file.read(10) \n",
    "    file.seek(0)# imleci başa aldım\n",
    "    içerik2 = file.read(21) #ilk 21 karakteri okuttum\n",
    "    print(içerik)\n",
    "    print(içerik2)"
   ]
  },
  {
   "cell_type": "code",
   "execution_count": 29,
   "metadata": {},
   "outputs": [
    {
     "name": "stdout",
     "output_type": "stream",
     "text": [
      "ahmet portakal\n",
      "mauro icardi\n",
      "enes doruk \n",
      "fatih bugra\n",
      "umit eymen\n",
      "\n"
     ]
    }
   ],
   "source": [
    "with open(\"futbolcular.txt\", \"r+\") as file:\n",
    "    içerik = file.read()\n",
    "    içerik = \"ahmet portakal\\n\" + içerik # dosynın başına yazmak için sonuna yazacaksak a yı yani append kullanırız\n",
    "    file.seek(0)\n",
    "    print(içerik)\n",
    "    "
   ]
  },
  {
   "cell_type": "code",
   "execution_count": 30,
   "metadata": {},
   "outputs": [
    {
     "name": "stdout",
     "output_type": "stream",
     "text": [
      "['mauro icardi\\n', 'enes doruk \\n', 'fatih bugra\\n', 'umit eymen\\n']\n"
     ]
    }
   ],
   "source": [
    "# ikinci indekse gulşah can ekle \n",
    "with open(\"futbolcular.txt\", \"r+\") as file:\n",
    "    liste=file.readlines()\n",
    "    print(liste)"
   ]
  },
  {
   "cell_type": "code",
   "execution_count": 31,
   "metadata": {},
   "outputs": [],
   "source": [
    "with open(\"futbolcular.txt\", \"r+\") as file:\n",
    "    liste=file.readlines()\n",
    "    liste.insert(2,\"gülşah can\\n\") # enes den sonra ekelndi\n",
    "    file.seek(0)\n",
    "    \n",
    "    for i in liste:    # for yerine writelines() fonk kullanabilirdik\n",
    "        file.write(i)"
   ]
  },
  {
   "cell_type": "code",
   "execution_count": 34,
   "metadata": {},
   "outputs": [
    {
     "name": "stdout",
     "output_type": "stream",
     "text": [
      "mauro icardi\n",
      "enes doruk \n",
      "gülşah can\n",
      "fatih bugra\n",
      "umit eymen\n",
      "\n"
     ]
    }
   ],
   "source": [
    "with open(\"futbolcular.txt\", \"r+\") as file:\n",
    "    print(file.read())"
   ]
  },
  {
   "cell_type": "code",
   "execution_count": 40,
   "metadata": {},
   "outputs": [],
   "source": [
    "with open(\"futbolcular.txt\", \"r+\") as file:\n",
    "    liste=file.readlines()\n",
    "    liste.insert(2,\"emre fişne\\n\") # enes den sonra ekelndi\n",
    "    file.seek(0)\n",
    "    file.writelines(liste)"
   ]
  },
  {
   "cell_type": "code",
   "execution_count": 41,
   "metadata": {},
   "outputs": [
    {
     "name": "stdout",
     "output_type": "stream",
     "text": [
      "mauro icardi\n",
      "enes doruk \n",
      "emre fişne\n",
      "gülşah can\n",
      "gülşah can\n",
      "fatih bugra\n",
      "umit eymen\n",
      "\n"
     ]
    }
   ],
   "source": [
    "with open(\"futbolcular.txt\", \"r+\") as file:\n",
    "    print(file.read())"
   ]
  }
 ],
 "metadata": {
  "kernelspec": {
   "display_name": "base",
   "language": "python",
   "name": "python3"
  },
  "language_info": {
   "codemirror_mode": {
    "name": "ipython",
    "version": 3
   },
   "file_extension": ".py",
   "mimetype": "text/x-python",
   "name": "python",
   "nbconvert_exporter": "python",
   "pygments_lexer": "ipython3",
   "version": "3.9.12"
  },
  "orig_nbformat": 4
 },
 "nbformat": 4,
 "nbformat_minor": 2
}
