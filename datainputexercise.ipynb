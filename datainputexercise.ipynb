{
 "cells": [
  {
   "cell_type": "code",
   "execution_count": 2,
   "metadata": {},
   "outputs": [
    {
     "name": "stdout",
     "output_type": "stream",
     "text": [
      "45\n"
     ]
    }
   ],
   "source": [
    "x=int(input(\"lütfen bir sayı giriniz\"))\n",
    "y=int(input(\"lütfen ikinci sayıyı giriniz\"))\n",
    "\n",
    "result=x*y\n",
    "print(result)"
   ]
  },
  {
   "cell_type": "code",
   "execution_count": 3,
   "metadata": {},
   "outputs": [
    {
     "name": "stdout",
     "output_type": "stream",
     "text": [
      "Name**Is**James\n"
     ]
    }
   ],
   "source": [
    "\"For example: print('Name', 'Is', 'James') will display Name**Is**James\"\n",
    "print(\"Name\",\"Is\",\"James\", sep=\"**\")"
   ]
  },
  {
   "cell_type": "code",
   "execution_count": 10,
   "metadata": {},
   "outputs": [
    {
     "name": "stdout",
     "output_type": "stream",
     "text": [
      "10\n"
     ]
    }
   ],
   "source": [
    "\"8 sayısını ondalık sayıya dönüştürme\"\n",
    "num = 8\n",
    "print('%o' % num)"
   ]
  },
  {
   "cell_type": "code",
   "execution_count": 11,
   "metadata": {},
   "outputs": [
    {
     "name": "stdout",
     "output_type": "stream",
     "text": [
      "458.54\n"
     ]
    }
   ],
   "source": [
    "num = 458.541315\n",
    "print('%.2f' % num)"
   ]
  },
  {
   "cell_type": "code",
   "execution_count": 14,
   "metadata": {},
   "outputs": [],
   "source": [
    "\"Belirli bir dosyanın tüm içeriğini 5 numaralı satırı atlayarak yeni bir dosyaya yazın\"\n",
    "\n",
    "with open(\"test.txt\", \"r\") as fp:\n",
    "    lines=fp.readlines() # bir dosyadan tüm satırları oku\n",
    "\n",
    "with open(\"new_file.txt\", \"w\") as fp: # bir test.txt dosyasındaki her satırı yineleyin\n",
    "    count=0\n",
    "    \n",
    "    for line in lines:\n",
    "        if count == 4 :\n",
    "            count += 1\n",
    "            continue\n",
    "        else:\n",
    "            fp.write(line) # write current line// geçerli satırı yaz\n",
    "        count += 1 #in each iteration reduce the count// her yinelemede sayıyı azaltın   \n",
    "    \n",
    "    \n",
    "    \n",
    "    \n",
    "    \n",
    "    \n",
    "    "
   ]
  },
  {
   "cell_type": "code",
   "execution_count": 15,
   "metadata": {},
   "outputs": [
    {
     "name": "stdout",
     "output_type": "stream",
     "text": [
      "line1\n",
      "line2\n",
      "line3\n",
      "line4\n",
      "line6\n",
      "line7\n",
      "line8\n"
     ]
    }
   ],
   "source": [
    "with open(\"new_file.txt\", \"r+\") as fp:\n",
    "    print(fp.read())"
   ]
  },
  {
   "cell_type": "code",
   "execution_count": 18,
   "metadata": {},
   "outputs": [
    {
     "name": "stdout",
     "output_type": "stream",
     "text": [
      "I have 3 dolars so I can buy 1000 football for 450 dollars \n"
     ]
    }
   ],
   "source": [
    "\"aşagidaki verileri format yöntemi ile biçimlendirin\"\n",
    "totalMoney = 1000\n",
    "quantity = 3\n",
    "price = 450\n",
    "\n",
    "print(\"I have {1} dolars so I can buy {0} football for {2} dollars \".format(totalMoney,quantity,price) )"
   ]
  },
  {
   "cell_type": "code",
   "execution_count": 19,
   "metadata": {},
   "outputs": [
    {
     "name": "stdout",
     "output_type": "stream",
     "text": [
      "line3\n",
      "\n"
     ]
    }
   ],
   "source": [
    "\"Read line number 4 from the following file// YUKARDA yaptıgımız dosyanın 4 satırını okuyunuz\"\n",
    "\n",
    "with open (\"test.txt\" , \"r\") as fp :\n",
    "    lines=fp.readlines()\n",
    "    print(lines[2])\n",
    "\n"
   ]
  }
 ],
 "metadata": {
  "kernelspec": {
   "display_name": "base",
   "language": "python",
   "name": "python3"
  },
  "language_info": {
   "codemirror_mode": {
    "name": "ipython",
    "version": 3
   },
   "file_extension": ".py",
   "mimetype": "text/x-python",
   "name": "python",
   "nbconvert_exporter": "python",
   "pygments_lexer": "ipython3",
   "version": "3.9.12"
  },
  "orig_nbformat": 4
 },
 "nbformat": 4,
 "nbformat_minor": 2
}
