{
 "cells": [
  {
   "cell_type": "code",
   "execution_count": 2,
   "metadata": {},
   "outputs": [
    {
     "name": "stdout",
     "output_type": "stream",
     "text": [
      "45\n"
     ]
    }
   ],
   "source": [
    "x=int(input(\"lütfen bir sayı giriniz\"))\n",
    "y=int(input(\"lütfen ikinci sayıyı giriniz\"))\n",
    "\n",
    "result=x*y\n",
    "print(result)"
   ]
  },
  {
   "cell_type": "code",
   "execution_count": 3,
   "metadata": {},
   "outputs": [
    {
     "name": "stdout",
     "output_type": "stream",
     "text": [
      "Name**Is**James\n"
     ]
    }
   ],
   "source": [
    "\"For example: print('Name', 'Is', 'James') will display Name**Is**James\"\n",
    "print(\"Name\",\"Is\",\"James\", sep=\"**\")"
   ]
  },
  {
   "cell_type": "code",
   "execution_count": 10,
   "metadata": {},
   "outputs": [
    {
     "name": "stdout",
     "output_type": "stream",
     "text": [
      "10\n"
     ]
    }
   ],
   "source": [
    "\"8 sayısını ondalık sayıya dönüştürme\"\n",
    "num = 8\n",
    "print('%o' % num)"
   ]
  },
  {
   "cell_type": "code",
   "execution_count": 11,
   "metadata": {},
   "outputs": [
    {
     "name": "stdout",
     "output_type": "stream",
     "text": [
      "458.54\n"
     ]
    }
   ],
   "source": [
    "num = 458.541315\n",
    "print('%.2f' % num)"
   ]
  },
  {
   "cell_type": "code",
   "execution_count": 14,
   "metadata": {},
   "outputs": [],
   "source": [
    "\"Belirli bir dosyanın tüm içeriğini 5 numaralı satırı atlayarak yeni bir dosyaya yazın\"\n",
    "\n",
    "with open(\"test.txt\", \"r\") as fp:\n",
    "    lines=fp.readlines() # bir dosyadan tüm satırları oku\n",
    "\n",
    "with open(\"new_file.txt\", \"w\") as fp: # bir test.txt dosyasındaki her satırı yineleyin\n",
    "    count=0\n",
    "    \n",
    "    for line in lines:\n",
    "        if count == 4 :\n",
    "            count += 1\n",
    "            continue\n",
    "        else:\n",
    "            fp.write(line) # write current line// geçerli satırı yaz\n",
    "        count += 1 #in each iteration reduce the count// her yinelemede sayıyı azaltın   \n",
    "    \n",
    "    \n",
    "    \n",
    "    \n",
    "    \n",
    "    \n",
    "    "
   ]
  },
  {
   "cell_type": "code",
   "execution_count": 15,
   "metadata": {},
   "outputs": [
    {
     "name": "stdout",
     "output_type": "stream",
     "text": [
      "line1\n",
      "line2\n",
      "line3\n",
      "line4\n",
      "line6\n",
      "line7\n",
      "line8\n"
     ]
    }
   ],
   "source": [
    "with open(\"new_file.txt\", \"r+\") as fp:\n",
    "    print(fp.read())"
   ]
  },
  {
   "cell_type": "code",
   "execution_count": 18,
   "metadata": {},
   "outputs": [
    {
     "name": "stdout",
     "output_type": "stream",
     "text": [
      "I have 3 dolars so I can buy 1000 football for 450 dollars \n"
     ]
    }
   ],
   "source": [
    "\"aşagidaki verileri format yöntemi ile biçimlendirin\"\n",
    "totalMoney = 1000\n",
    "quantity = 3\n",
    "price = 450\n",
    "\n",
    "print(\"I have {1} dolars so I can buy {0} football for {2} dollars \".format(totalMoney,quantity,price) )"
   ]
  },
  {
   "cell_type": "code",
   "execution_count": 19,
   "metadata": {},
   "outputs": [
    {
     "name": "stdout",
     "output_type": "stream",
     "text": [
      "line3\n",
      "\n"
     ]
    }
   ],
   "source": [
    "\"Read line number 4 from the following file// YUKARDA yaptıgımız dosyanın 4 satırını okuyunuz\"\n",
    "\n",
    "with open (\"test.txt\" , \"r\") as fp :\n",
    "    lines=fp.readlines()\n",
    "    print(lines[2])\n",
    "\n"
   ]
  },
  {
   "cell_type": "code",
   "execution_count": 3,
   "metadata": {},
   "outputs": [
    {
     "name": "stdout",
     "output_type": "stream",
     "text": [
      "1 \n",
      "1 2 \n",
      "1 2 3 \n",
      "1 2 3 4 \n",
      "1 2 3 4 5 \n"
     ]
    }
   ],
   "source": [
    "row =5\n",
    "for i in range(1,6,1):\n",
    "    for j in range(1,i+1):\n",
    "        print(j,end=\" \")\n",
    "        \n",
    "    print(\"\")        \n",
    "    "
   ]
  },
  {
   "cell_type": "code",
   "execution_count": 4,
   "metadata": {},
   "outputs": [
    {
     "name": "stdout",
     "output_type": "stream",
     "text": [
      "55\n"
     ]
    }
   ],
   "source": [
    "\"Bir kullanıcıdan bir sayı alan ve 1'den verilen bir sayıya kadar olan tüm sayıların toplamını hesaplayan bir program yazınız.\"\n",
    "\"For example, if the user entered 10 the output should be 55 (1+2+3+4+5+6+7+8+9+10)\"\n",
    "\n",
    "n=10\n",
    "result=sum(range(1,11))\n",
    "print(result)"
   ]
  },
  {
   "cell_type": "code",
   "execution_count": 8,
   "metadata": {},
   "outputs": [
    {
     "name": "stdout",
     "output_type": "stream",
     "text": [
      "toplam : 55\n"
     ]
    }
   ],
   "source": [
    "\"dinamik olarak şöylede yapabiliriz\"\n",
    "sum=0\n",
    "n =int(input(\"bir sayı giriniz\"))\n",
    "\n",
    "for i in range(1,n+1,1):\n",
    "    sum += i\n",
    "    \n",
    "print(\"toplam :\", sum)    "
   ]
  },
  {
   "cell_type": "code",
   "execution_count": 12,
   "metadata": {},
   "outputs": [
    {
     "name": "stdout",
     "output_type": "stream",
     "text": [
      "2\n",
      "4\n",
      "6\n",
      "8\n",
      "10\n",
      "12\n",
      "14\n",
      "16\n",
      "18\n",
      "20\n"
     ]
    }
   ],
   "source": [
    "\"Belirli bir sayının çarpım tablosunu yazdıran bir program yazınız.For example, num = 2 so the output should be\"\n",
    "n=2\n",
    "for i in range(1,11,1):\n",
    "    result= n * i\n",
    "    \n",
    "    print(result)    "
   ]
  },
  {
   "cell_type": "code",
   "execution_count": 15,
   "metadata": {},
   "outputs": [
    {
     "name": "stdout",
     "output_type": "stream",
     "text": [
      "75\n",
      "150\n",
      "145\n"
     ]
    }
   ],
   "source": [
    "\"Write a program to display only those numbers from a list that satisfy the following conditions\"\n",
    "\n",
    "\"The number must be divisible by five\"\n",
    "\"If the number is greater than 150, then skip it and move to the next number\"\n",
    "\"If the number is greater than 500, then stop the loop\"\n",
    "\n",
    "numbers = [12, 75, 150, 180, 145, 525, 50]\n",
    "\n",
    "for i in numbers:\n",
    "    if i > 500 :\n",
    "        break\n",
    "    elif i > 150 :\n",
    "        continue\n",
    "    elif i % 5 == 0:\n",
    "        print(i)\n",
    "\n",
    "\n",
    "\n",
    "\n"
   ]
  },
  {
   "cell_type": "code",
   "execution_count": 17,
   "metadata": {},
   "outputs": [
    {
     "name": "stdout",
     "output_type": "stream",
     "text": [
      "sayının basamaklarının sayısı: 6\n"
     ]
    }
   ],
   "source": [
    "\"Bir while döngüsü kullanarak bir sayıdaki toplam basamak sayısını sayan bir program yazın.\"\n",
    "number = int(input(\"bir sayı giriniz\"))\n",
    "counter=0\n",
    "\n",
    "while number != 0:\n",
    "    number = number // 10\n",
    "    counter += 1\n",
    "print(\"sayının basamaklarının sayısı:\", counter)\n",
    "\n",
    "\n",
    "\n",
    "\n",
    "\n",
    "\n",
    "\n",
    "\n",
    "\n",
    "\n",
    "\n",
    "\n",
    "\n",
    "\n"
   ]
  },
  {
   "cell_type": "code",
   "execution_count": 20,
   "metadata": {},
   "outputs": [
    {
     "name": "stdout",
     "output_type": "stream",
     "text": [
      "5 4 3 2 1 \n",
      "4 3 2 1 \n",
      "3 2 1 \n",
      "2 1 \n",
      "1 \n",
      "\n"
     ]
    }
   ],
   "source": [
    "\"Write a program to use for loop to print the following reverse number pattern\"\n",
    "\"Aşağıdaki ters sayı örüntüsünü yazdırmak için for döngüsü kullanacak bir program yazınız.\"\n",
    "\n",
    "n=5\n",
    "k=5\n",
    "\n",
    "for i in range(0,n+1):\n",
    "    for j in range(k-i,0,-1):\n",
    "        print(j , end=\" \")\n",
    "        \n",
    "    print()    \n",
    "        "
   ]
  },
  {
   "cell_type": "code",
   "execution_count": 26,
   "metadata": {},
   "outputs": [
    {
     "name": "stdout",
     "output_type": "stream",
     "text": [
      "50\n",
      "40\n",
      "30\n",
      "20\n",
      "10\n"
     ]
    }
   ],
   "source": [
    "\"Bir döngü kullanarak listeyi ters sırada yazdırın\"\n",
    "list1 = [10, 20, 30, 40, 50]\n",
    "\n",
    "new_list = reversed(list1)\n",
    "\n",
    "for i in new_list:\n",
    "    print(i)\n",
    "    "
   ]
  },
  {
   "cell_type": "code",
   "execution_count": 27,
   "metadata": {},
   "outputs": [
    {
     "name": "stdout",
     "output_type": "stream",
     "text": [
      "50\n",
      "40\n",
      "30\n",
      "20\n",
      "10\n"
     ]
    }
   ],
   "source": [
    "\"ikinci yöntem\"\n",
    "\n",
    "list1=[10,20,30,40,50]\n",
    "size=len(list1)-1\n",
    "\n",
    "for i in range(size,-1,-1):\n",
    "    print(list1[i])"
   ]
  }
 ],
 "metadata": {
  "kernelspec": {
   "display_name": "base",
   "language": "python",
   "name": "python3"
  },
  "language_info": {
   "codemirror_mode": {
    "name": "ipython",
    "version": 3
   },
   "file_extension": ".py",
   "mimetype": "text/x-python",
   "name": "python",
   "nbconvert_exporter": "python",
   "pygments_lexer": "ipython3",
   "version": "3.9.12"
  },
  "orig_nbformat": 4
 },
 "nbformat": 4,
 "nbformat_minor": 2
}
